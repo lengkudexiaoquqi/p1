{
 "cells": [
  {
   "cell_type": "markdown",
   "id": "259030ce",
   "metadata": {},
   "source": [
    "# 3 基础语法"
   ]
  },
  {
   "cell_type": "markdown",
   "id": "73765fc7",
   "metadata": {},
   "source": [
    "## 认识Python程序"
   ]
  },
  {
   "cell_type": "code",
   "execution_count": 2,
   "id": "87a2910d",
   "metadata": {},
   "outputs": [
    {
     "name": "stdout",
     "output_type": "stream",
     "text": [
      "Hello, ShowMeAI, this is Python!\n"
     ]
    }
   ],
   "source": [
    "print(\"Hello, ShowMeAI, this is Python!\")"
   ]
  },
  {
   "cell_type": "markdown",
   "id": "fed31c69",
   "metadata": {},
   "source": [
    "## print输出"
   ]
  },
  {
   "cell_type": "code",
   "execution_count": 4,
   "id": "d2b98be2",
   "metadata": {},
   "outputs": [
    {
     "name": "stdout",
     "output_type": "stream",
     "text": [
      "a\n",
      "b\n",
      "---------\n",
      "a b a b"
     ]
    }
   ],
   "source": [
    "#python3中print默认输出是换行的，如果要实现不换行需要在变量末尾加上 「, end=’’」\n",
    "x=\"a\"\n",
    "y=\"b\"\n",
    "# 换行输出\n",
    "print(x)\n",
    "print(y)\n",
    "print('---------')\n",
    "# 不换行输出\n",
    "print(x, end=' ')\n",
    "print(y, end=' ')\n",
    "# 不换行输出\n",
    "print(x, y, end='')"
   ]
  },
  {
   "cell_type": "markdown",
   "id": "7619db7e",
   "metadata": {},
   "source": [
    "# 4 基础数据类型"
   ]
  },
  {
   "cell_type": "markdown",
   "id": "bd0ac5a8",
   "metadata": {},
   "source": [
    "## 变量赋值"
   ]
  },
  {
   "cell_type": "code",
   "execution_count": 3,
   "id": "c3fc787c",
   "metadata": {},
   "outputs": [
    {
     "name": "stdout",
     "output_type": "stream",
     "text": [
      "100\n",
      "100 <class 'int'>\n",
      "100.0\n",
      "100.0 <class 'float'>\n",
      "ShowMeAI\n",
      "ShowMeAI <class 'str'>\n"
     ]
    }
   ],
   "source": [
    "num = 100 # 赋值整型变量\n",
    "weight = 100.0 # 浮点型\n",
    "name = \"ShowMeAI\" # 字符串\n",
    "\n",
    "print(num)\n",
    "print(num, type(num))\n",
    "print(weight)\n",
    "print(weight, type(weight))\n",
    "print(name)\n",
    "print(name, type(name))"
   ]
  },
  {
   "cell_type": "markdown",
   "id": "9b3f7640",
   "metadata": {},
   "source": [
    "## Python字符串"
   ]
  },
  {
   "cell_type": "code",
   "execution_count": 1,
   "id": "afaba34e",
   "metadata": {},
   "outputs": [
    {
     "name": "stdout",
     "output_type": "stream",
     "text": [
      "Hello ShowMeAI!\n",
      "H\n",
      "llo\n",
      "llo ShowMeAI!\n",
      "Hello ShowMeAI!Hello ShowMeAI!\n",
      "Hello ShowMeAI! Awesome\n"
     ]
    }
   ],
   "source": [
    "str = 'Hello ShowMeAI!'\n",
    "\n",
    "print(str) # 输出完整字符串\n",
    "print(str[0]) # 输出字符串中的第一个字符\n",
    "print(str[2:5]) # 输出字符串中第三个至第六个之间的字符串\n",
    "print(str[2:]) # 输出从第三个字符开始的字符串\n",
    "print(str * 2) # 输出字符串两次\n",
    "print(str + \" Awesome\") # 输出连接的字符串"
   ]
  },
  {
   "cell_type": "markdown",
   "id": "c482f46e",
   "metadata": {},
   "source": [
    "## Python列表"
   ]
  },
  {
   "cell_type": "code",
   "execution_count": 2,
   "id": "bc1da25f",
   "metadata": {},
   "outputs": [
    {
     "name": "stdout",
     "output_type": "stream",
     "text": [
      "['ShowMeAI', 786, 2.23, 'show', 70.2]\n",
      "ShowMeAI\n",
      "[786, 2.23]\n",
      "[2.23, 'show', 70.2]\n",
      "[123, 'show', 123, 'show']\n",
      "['ShowMeAI', 786, 2.23, 'show', 70.2, 123, 'show']\n"
     ]
    }
   ],
   "source": [
    "list = [ 'ShowMeAI', 786 , 2.23, 'show', 70.2 ]\n",
    "\n",
    "tinylist = [123, 'show']\n",
    "print(list) # 输出完整列表\n",
    "print(list[0]) # 输出列表的第一个元素\n",
    "print(list[1:3]) # 输出第二个至第三个元素 \n",
    "print(list[2:]) # 输出从第三个开始至列表末尾的所有元素\n",
    "print(tinylist * 2) # 输出列表两次\n",
    "print(list + tinylist) # 打印组合的列表"
   ]
  },
  {
   "cell_type": "markdown",
   "id": "1d58187e",
   "metadata": {},
   "source": [
    "## Python原组"
   ]
  },
  {
   "cell_type": "code",
   "execution_count": 4,
   "id": "5eb26a11",
   "metadata": {},
   "outputs": [
    {
     "name": "stdout",
     "output_type": "stream",
     "text": [
      "('ShowMeAI', 786, 2.23, 'show', 70.2)\n",
      "ShowMeAI\n",
      "(786, 2.23)\n",
      "(2.23, 'show', 70.2)\n",
      "(123, 'show', 123, 'show')\n",
      "('ShowMeAI', 786, 2.23, 'show', 70.2, 123, 'show')\n"
     ]
    }
   ],
   "source": [
    "# 但是元组不能二次赋值，相当于只读列表。\n",
    "tuple = ( 'ShowMeAI', 786 , 2.23, 'show', 70.2 )\n",
    "tinytuple = (123, 'show')\n",
    "\n",
    "print(tuple) # 输出完整元组\n",
    "print(tuple[0]) # 输出元组的第一个元素\n",
    "print(tuple[1:3]) # 输出第二个至第四个（不包含）的元素 \n",
    "print(tuple[2:]) # 输出从第三个开始至列表末尾的所有元素\n",
    "print(tinytuple * 2) # 输出元组两次\n",
    "print(tuple + tinytuple) # 打印组合的元组"
   ]
  },
  {
   "cell_type": "markdown",
   "id": "566ff83b",
   "metadata": {},
   "source": [
    "## Python字典"
   ]
  },
  {
   "cell_type": "code",
   "execution_count": 4,
   "id": "a5e3ee1b",
   "metadata": {},
   "outputs": [
    {
     "name": "stdout",
     "output_type": "stream",
     "text": [
      "This is one\n",
      "This is two\n",
      "{'name': 'ShowMeAI', 'code': 3456, 'dept': 'AI'}\n",
      "dict_keys(['name', 'code', 'dept'])\n",
      "dict_values(['ShowMeAI', 3456, 'AI'])\n"
     ]
    }
   ],
   "source": [
    "dict = {}\n",
    "dict['one'] = \"This is one\"\n",
    "dict[2] = \"This is two\"\n",
    "tinydict = {'name': 'ShowMeAI','code':3456, 'dept': 'AI'}\n",
    "print(dict['one']) # 输出键为'one' 的值\n",
    "print(dict[2]) # 输出键为 2 的值\n",
    "print(tinydict) # 输出完整的字典\n",
    "print(tinydict.keys()) # 输出所有键\n",
    "print(tinydict.values()) # 输出所有值"
   ]
  },
  {
   "cell_type": "markdown",
   "id": "6bb544ba",
   "metadata": {},
   "source": [
    "# 5 运算符"
   ]
  },
  {
   "cell_type": "markdown",
   "id": "84cd8ae3",
   "metadata": {},
   "source": [
    "## 运算符"
   ]
  },
  {
   "cell_type": "code",
   "execution_count": 7,
   "id": "5d664329",
   "metadata": {},
   "outputs": [
    {
     "name": "stdout",
     "output_type": "stream",
     "text": [
      "第1次运算后，c的值为： 40\n",
      "第2次运算后，c的值为： 20\n",
      "第3次运算后，c的值为： 300\n",
      "第4次运算后，c的值为： 3.0\n",
      "第5次运算后，c的值为： 0\n",
      "第6次运算后，c的值为： 8\n",
      "第7次运算后，c的值为： 2\n"
     ]
    }
   ],
   "source": [
    "a = 30\n",
    "b = 10\n",
    "# c = 0\n",
    "\n",
    "c = a + b\n",
    "print(\"第1次运算后，c的值为：\", c)\n",
    "c = a - b\n",
    "print(\"第2次运算后，c的值为：\", c)\n",
    "c = a * b\n",
    "print(\"第3次运算后，c的值为：\", c)\n",
    "c = a / b\n",
    "print(\"第4次运算后，c的值为：\", c)\n",
    "c = a % b\n",
    "print(\"第5次运算后，c的值为：\", c)\n",
    "# 修改变量 a 、b 、c\n",
    "a = 2\n",
    "b = 3\n",
    "c = a**b \n",
    "print(\"第6次运算后，c的值为：\", c)\n",
    "a = 10\n",
    "b = 5\n",
    "c = a//b \n",
    "print(\"第7次运算后，c的值为：\", c)"
   ]
  },
  {
   "cell_type": "markdown",
   "id": "0d3d92b9",
   "metadata": {},
   "source": [
    "## 比较运算符"
   ]
  },
  {
   "cell_type": "code",
   "execution_count": 10,
   "id": "e5a2d162",
   "metadata": {},
   "outputs": [
    {
     "name": "stdout",
     "output_type": "stream",
     "text": [
      "a 不等于 b\n",
      "a 不等于 b\n",
      "a 大于等于 b\n",
      "a 大于 b\n",
      "a 小于等于 b\n",
      "b 大于等于 a\n"
     ]
    }
   ],
   "source": [
    "a = 30\n",
    "b = 10\n",
    "c = 0\n",
    "if  a == b :\n",
    "   print(\"a 等于 b\")\n",
    "else:\n",
    "   print(\"a 不等于 b\")\n",
    "if  a != b :\n",
    "   print(\"a 不等于 b\")\n",
    "else:\n",
    "   print(\"a 等于 b\")\n",
    "if  a < b :\n",
    "   print(\"a 小于 b\" )\n",
    "else:\n",
    "   print(\"a 大于等于 b\")\n",
    "if  a > b :\n",
    "   print(\"a 大于 b\")\n",
    "else:\n",
    "   print(\"a 小于等于 b\")\n",
    "# 修改变量 a 和 b 的值\n",
    "a = 5\n",
    "b = 20\n",
    "if  a <= b :\n",
    "   print(\"a 小于等于 b\")\n",
    "else:\n",
    "   print(\"a 大于  b\")\n",
    "if  b >= a :\n",
    "   print(\"b 大于等于 a\")\n",
    "else:\n",
    "   print(\"b 小于 a\")"
   ]
  },
  {
   "cell_type": "markdown",
   "id": "84b3141b",
   "metadata": {},
   "source": [
    "## 赋值运算符"
   ]
  },
  {
   "cell_type": "code",
   "execution_count": 8,
   "id": "d6c8e98b",
   "metadata": {},
   "outputs": [
    {
     "name": "stdout",
     "output_type": "stream",
     "text": [
      "第1次运算后，c的值为： 40\n",
      "第2次运算后，c的值为： 70\n",
      "第3次运算后，c的值为： 2100\n",
      "第4次运算后，c的值为： 70.0\n",
      "第5次运算后，c的值为： 2\n",
      "第6次运算后，c的值为： 1073741824\n",
      "第7次运算后，c的值为： 35791394\n"
     ]
    }
   ],
   "source": [
    "a = 30\n",
    "b = 10\n",
    "c = 0\n",
    "c = a + b\n",
    "print(\"第1次运算后，c的值为：\", c)\n",
    "c += a\n",
    "print(\"第2次运算后，c的值为：\", c )\n",
    "c *= a\n",
    "print(\"第3次运算后，c的值为：\", c )\n",
    "c /= a \n",
    "print(\"第4次运算后，c的值为：\", c )\n",
    "c = 2\n",
    "c %= a\n",
    "print(\"第5次运算后，c的值为：\", c)\n",
    "c **= a\n",
    "print(\"第6次运算后，c的值为：\", c)\n",
    "# 取整除赋值运算符\n",
    "c //= a\n",
    "print(\"第7次运算后，c的值为：\", c)"
   ]
  },
  {
   "cell_type": "markdown",
   "id": "71fc2b5f",
   "metadata": {},
   "source": [
    "## 位运算符"
   ]
  },
  {
   "cell_type": "code",
   "execution_count": 11,
   "id": "bceefaf1",
   "metadata": {},
   "outputs": [
    {
     "name": "stdout",
     "output_type": "stream",
     "text": [
      "第1次运算后，c的值为： 12\n",
      "第2次运算后，c的值为： 61\n",
      "第3次运算后，c的值为： 49\n",
      "第4次运算后，c的值为： -61\n",
      "第5次运算后，c的值为： 240\n",
      "第6次运算后，c的值为： 15\n"
     ]
    }
   ],
   "source": [
    "a = 60            # 60 = 0011 1100 \n",
    "b = 13            # 13 = 0000 1101 \n",
    "c = 0\n",
    "# 按位与运算符\n",
    "c = a & b        # 12 = 0000 1100\n",
    "print(\"第1次运算后，c的值为：\", c)\n",
    "# 按位或运算符\n",
    "c = a | b        # 61 = 0011 1101\n",
    "print(\"第2次运算后，c的值为：\", c)\n",
    "# 按位异或运算符\n",
    "c = a ^ b        # 49 = 0011 0001\n",
    "print(\"第3次运算后，c的值为：\", c)\n",
    "# 按位取反运算符\n",
    "c = ~a           # -61 = 1100 0011\n",
    "print(\"第4次运算后，c的值为：\", c)\n",
    "# 左移动运算符：运算数的各二进位全部左移若干位，由 << 右边的数字指定了移动的位数，高位丢弃，低位补0。\n",
    "c = a << 2       # 240 = 1111 0000\n",
    "print(\"第5次运算后，c的值为：\", c)\n",
    "# 右移动运算符：把”>>”左边的运算数的各二进位全部右移若干位，>> 右边的数字指定了移动的位数\n",
    "c = a >> 2       # 15 = 0000 1111\n",
    "print(\"第6次运算后，c的值为：\", c)"
   ]
  },
  {
   "cell_type": "markdown",
   "id": "637fd45f",
   "metadata": {},
   "source": [
    "## 逻辑运算符"
   ]
  },
  {
   "cell_type": "code",
   "execution_count": 16,
   "id": "3d2e3275",
   "metadata": {},
   "outputs": [
    {
     "name": "stdout",
     "output_type": "stream",
     "text": [
      "1.变量 a 和 b 都为 true\n",
      "2.变量 a 和 b 都为 true，或其中一个变量为 true\n",
      "3.变量 a 和 b 有一个不为 true\n",
      "4.变量 a 和 b 都为 true，或其中一个变量为 true\n",
      "5.变量 a 和 b 都为 false，或其中一个变量为 false\n"
     ]
    }
   ],
   "source": [
    "a = 10\n",
    "b = 20\n",
    "if  a and b :\n",
    "   print(\"1.变量 a 和 b 都为 true\")\n",
    "else:\n",
    "   print(\"1.变量 a 和 b 有一个不为 true\")\n",
    "if  a or b :\n",
    "   print(\"2.变量 a 和 b 都为 true，或其中一个变量为 true\")\n",
    "else:\n",
    "   print(\"2.变量 a 和 b 都不为 true\")\n",
    "# 修改变量 a 的值\n",
    "a = 0\n",
    "if  a and b :\n",
    "   print(\"3.变量 a 和 b 都为 true\")\n",
    "else:\n",
    "   print(\"3.变量 a 和 b 有一个不为 true\")\n",
    "if  a or b :\n",
    "   print(\"4.变量 a 和 b 都为 true，或其中一个变量为 true\")\n",
    "else:\n",
    "   print(\"4.变量 a 和 b 都不为 true\")\n",
    "if not( a and b ):\n",
    "   print(\"5.变量 a 和 b 都为 false，或其中一个变量为 false\")\n",
    "else:\n",
    "   print(\"5.变量 a 和 b 都为 true\")"
   ]
  },
  {
   "cell_type": "markdown",
   "id": "e44ff583",
   "metadata": {},
   "source": [
    "## 成员运算符"
   ]
  },
  {
   "cell_type": "code",
   "execution_count": 12,
   "id": "62c129ec",
   "metadata": {},
   "outputs": [
    {
     "name": "stdout",
     "output_type": "stream",
     "text": [
      "1.变量 a 不在给定的列表中 list 中\n",
      "2.变量 b 不在给定的列表中 list 中\n",
      "3.变量 a 在给定的列表中 list 中\n"
     ]
    }
   ],
   "source": [
    "a = 10\n",
    "b = 20\n",
    "list = [1, 2, 3, 4, 5 ]\n",
    "if ( a in list ):\n",
    "   print(\"1.变量 a 在给定的列表中 list 中\")\n",
    "else:\n",
    "   print(\"1.变量 a 不在给定的列表中 list 中\")\n",
    "if ( b not in list ):\n",
    "   print(\"2.变量 b 不在给定的列表中 list 中\")\n",
    "else:\n",
    "   print(\"2.变量 b 在给定的列表中 list 中\")\n",
    "# 修改变量 a 的值\n",
    "a = 2\n",
    "if ( a in list ):\n",
    "   print(\"3.变量 a 在给定的列表中 list 中\")\n",
    "else:\n",
    "   print(\"3.变量 a 不在给定的列表中 list 中\")"
   ]
  },
  {
   "cell_type": "markdown",
   "id": "6883537c",
   "metadata": {},
   "source": [
    "## 身份运算符"
   ]
  },
  {
   "cell_type": "code",
   "execution_count": 1,
   "id": "e8d4866a",
   "metadata": {},
   "outputs": [
    {
     "name": "stdout",
     "output_type": "stream",
     "text": [
      "1.a 和 b 有相同的标识\n",
      "2.a 和 b 有相同的标识\n",
      "3.a 和 b 没有相同的标识\n",
      "4.a 和 b 没有相同的标识\n"
     ]
    }
   ],
   "source": [
    "a = 20\n",
    "b = 20\n",
    "if  a is b :\n",
    "   print(\"1.a 和 b 有相同的标识\")\n",
    "else:\n",
    "   print(\"1.a 和 b 没有相同的标识\")\n",
    "if ( a is not b ):\n",
    "   print(\"2.a 和 b 没有相同的标识\")\n",
    "else:\n",
    "   print(\"2.a 和 b 有相同的标识\")\n",
    "# 修改变量 b 的值\n",
    "b = 30\n",
    "if ( a is b ):\n",
    "   print(\"3.a 和 b 有相同的标识\")\n",
    "else:\n",
    "   print(\"3.a 和 b 没有相同的标识\")\n",
    "if ( a is not b ):\n",
    "   print(\"4.a 和 b 没有相同的标识\")\n",
    "else:\n",
    "   print(\"4.a 和 b 有相同的标识\")"
   ]
  },
  {
   "cell_type": "code",
   "execution_count": 16,
   "id": "2a20b7a4",
   "metadata": {},
   "outputs": [
    {
     "data": {
      "text/plain": "True"
     },
     "execution_count": 16,
     "metadata": {},
     "output_type": "execute_result"
    }
   ],
   "source": [
    "#is 与 == 区别：\n",
    "#is 用于判断两个变量引用对象是否为同一个(同一块内存空间)， == 用于判断引用变量的值是否相等。\n",
    "a = [1, 2, 3]\n",
    "b = a\n",
    "b is a"
   ]
  },
  {
   "cell_type": "code",
   "execution_count": 17,
   "id": "2ac89762",
   "metadata": {},
   "outputs": [
    {
     "data": {
      "text/plain": "True"
     },
     "execution_count": 17,
     "metadata": {},
     "output_type": "execute_result"
    }
   ],
   "source": [
    "b == a"
   ]
  },
  {
   "cell_type": "code",
   "execution_count": 26,
   "id": "cf2a6dec",
   "metadata": {},
   "outputs": [
    {
     "name": "stdout",
     "output_type": "stream",
     "text": [
      "a.id 2653636218112\n",
      "b.id 2653597854784\n"
     ]
    },
    {
     "data": {
      "text/plain": "False"
     },
     "execution_count": 26,
     "metadata": {},
     "output_type": "execute_result"
    }
   ],
   "source": [
    "b = a[:]\n",
    "\n",
    "print(\"a.id\", id(a))\n",
    "print(\"b.id\", id(b))\n",
    "\n",
    "b is a"
   ]
  },
  {
   "cell_type": "code",
   "execution_count": 23,
   "id": "48abb585",
   "metadata": {},
   "outputs": [
    {
     "data": {
      "text/plain": "True"
     },
     "execution_count": 23,
     "metadata": {},
     "output_type": "execute_result"
    }
   ],
   "source": [
    "b == a"
   ]
  },
  {
   "cell_type": "markdown",
   "id": "78d12b73",
   "metadata": {},
   "source": [
    "## 运算符优先级"
   ]
  },
  {
   "cell_type": "code",
   "execution_count": 27,
   "id": "e2715293",
   "metadata": {},
   "outputs": [
    {
     "name": "stdout",
     "output_type": "stream",
     "text": [
      "(a + b) * c / d 运算结果为： 90.0\n",
      "((a + b) * c) / d 运算结果为： 90.0\n",
      "(a + b) * (c / d) 运算结果为： 90.0\n",
      "a + (b * c) / d 运算结果为： 50.0\n"
     ]
    }
   ],
   "source": [
    "a = 20\n",
    "b = 10\n",
    "c = 15\n",
    "d = 5\n",
    "e = 0\n",
    "e = (a + b) * c / d       #( 30 * 15 ) / 5\n",
    "print(\"(a + b) * c / d 运算结果为：\",  e)\n",
    "e = ((a + b) * c) / d     # (30 * 15 ) / 5\n",
    "print(\"((a + b) * c) / d 运算结果为：\",  e)\n",
    "e = (a + b) * (c / d)    # (30) * (15/5)\n",
    "print(\"(a + b) * (c / d) 运算结果为：\",  e)\n",
    "e = a + (b * c) / d      #  20 + (150/5)\n",
    "print(\"a + (b * c) / d 运算结果为：\",  e)"
   ]
  },
  {
   "cell_type": "markdown",
   "id": "c5bf8b7d",
   "metadata": {},
   "source": [
    "# 6 条件控制与if语句"
   ]
  },
  {
   "cell_type": "code",
   "execution_count": 27,
   "id": "1d219039",
   "metadata": {},
   "outputs": [
    {
     "name": "stdout",
     "output_type": "stream",
     "text": [
      "welcome ShowMeAI\n"
     ]
    }
   ],
   "source": [
    "flag = False\n",
    "name = 'ShowMeAI'\n",
    "if name == 'python':         # 判断变量是否为 python \n",
    "    flag = True              # 条件成立时设置标志为真\n",
    "    print('welcome boss')    # 并输出欢迎信息\n",
    "else:\n",
    "    print('welcome '+name)    # 条件不成立时输出变量名称"
   ]
  },
  {
   "cell_type": "code",
   "execution_count": 28,
   "id": "76ce0124",
   "metadata": {},
   "outputs": [
    {
     "name": "stdout",
     "output_type": "stream",
     "text": [
      "random\n"
     ]
    }
   ],
   "source": [
    "num = 6     \n",
    "if num == 3:            # 判断num的值\n",
    "    print('boss')\n",
    "elif num == 2:\n",
    "    print('user')\n",
    "elif num == 1:\n",
    "    print('worker')\n",
    "elif num < 0:           # 值小于零时输出\n",
    "    print('error')\n",
    "else:\n",
    "    print('random')    # 条件均不成立时输出"
   ]
  },
  {
   "cell_type": "code",
   "execution_count": 30,
   "id": "36be29b4",
   "metadata": {},
   "outputs": [
    {
     "name": "stdout",
     "output_type": "stream",
     "text": [
      "hello\n",
      "undefine\n",
      "undefine\n"
     ]
    }
   ],
   "source": [
    "# if语句多个条件\n",
    "num = 9\n",
    "if num >= 0 and num <= 10:    # 判断值是否在0~10之间\n",
    "    print('hello')\n",
    "# 输出结果: hello\n",
    "\n",
    "num = 10\n",
    "if num < 0 or num > 10:    # 判断值是否在小于0或大于10\n",
    "    print('hello')\n",
    "else:\n",
    "    print('undefine')\n",
    "# 输出结果: undefine\n",
    "\n",
    "num = 8\n",
    "# 判断值是否在0~5或者10~15之间\n",
    "if (num >= 0 and num <= 5) or (num >= 10 and num <= 15):    \n",
    "    print('hello')\n",
    "else:\n",
    "    print('undefine')\n",
    "# 输出结果: undefine"
   ]
  },
  {
   "cell_type": "code",
   "execution_count": 34,
   "id": "109000ef",
   "metadata": {},
   "outputs": [
    {
     "name": "stdout",
     "output_type": "stream",
     "text": [
      "变量 show 的值为100\n",
      "Good bye!\n"
     ]
    }
   ],
   "source": [
    "show = 100\n",
    "# if ( show  != 100 ) : print(\"变量 show 的值为100\")\n",
    "if ( show  == 100 ) : print(\"变量 show 的值为100\")\n",
    "print(\"Good bye!\")"
   ]
  },
  {
   "cell_type": "markdown",
   "id": "e2704217",
   "metadata": {},
   "source": [
    "# 8 while循环"
   ]
  },
  {
   "cell_type": "code",
   "execution_count": 31,
   "id": "c950bccc",
   "metadata": {},
   "outputs": [
    {
     "name": "stdout",
     "output_type": "stream",
     "text": [
      "The count is: 0\n",
      "The count is: 1\n",
      "The count is: 2\n",
      "The count is: 3\n",
      "The count is: 4\n",
      "The count is: 5\n",
      "The count is: 6\n",
      "The count is: 7\n",
      "The count is: 8\n",
      "Done!\n"
     ]
    }
   ],
   "source": [
    "count = 0\n",
    "while (count < 9):\n",
    "   print('The count is:', count)\n",
    "   count = count + 1\n",
    "print(\"Done!\")"
   ]
  },
  {
   "cell_type": "code",
   "execution_count": 35,
   "id": "416ca31c",
   "metadata": {},
   "outputs": [
    {
     "name": "stdout",
     "output_type": "stream",
     "text": [
      "2\n",
      "4\n",
      "6\n",
      "8\n",
      "10\n",
      "1\n",
      "2\n",
      "3\n",
      "4\n",
      "5\n",
      "6\n",
      "7\n",
      "8\n",
      "9\n",
      "10\n"
     ]
    }
   ],
   "source": [
    "# continue 和 break 用法\n",
    "# continue 用于跳过该次循环\n",
    "# break 用于退出循环\n",
    "i = 1\n",
    "while i < 10:   \n",
    "    i += 1\n",
    "    if i%2 > 0:     # 非双数时跳过输出\n",
    "        continue\n",
    "    print(i)         # 输出双数2、4、6、8、10\n",
    "i = 1\n",
    "while 1:            # 循环条件为1必定成立\n",
    "    print(i)         # 输出1~10\n",
    "    i += 1\n",
    "    if i > 10:     # 当i大于10时跳出循环\n",
    "        break"
   ]
  },
  {
   "cell_type": "markdown",
   "id": "f7dd7b80",
   "metadata": {},
   "source": [
    "## 循环中的else语句"
   ]
  },
  {
   "cell_type": "code",
   "execution_count": 2,
   "id": "a838ef2f",
   "metadata": {},
   "outputs": [
    {
     "name": "stdout",
     "output_type": "stream",
     "text": [
      "0 比5要小\n",
      "1 比5要小\n",
      "2 比5要小\n",
      "3 比5要小\n",
      "4 比5要小\n",
      "5 不比5小\n"
     ]
    }
   ],
   "source": [
    "count = 0\n",
    "while count < 5:\n",
    "   print(count, \"比5要小\")\n",
    "   count = count + 1\n",
    "else:\n",
    "   print(count, \"不比5小\")"
   ]
  },
  {
   "cell_type": "markdown",
   "id": "4976a671",
   "metadata": {},
   "source": [
    "# 9 for循环"
   ]
  },
  {
   "cell_type": "markdown",
   "id": "f7334175",
   "metadata": {},
   "source": [
    "## Python-for循环语句"
   ]
  },
  {
   "cell_type": "code",
   "execution_count": 37,
   "id": "2d46f5f2",
   "metadata": {},
   "outputs": [
    {
     "name": "stdout",
     "output_type": "stream",
     "text": [
      "当前字母: S\n",
      "当前字母: h\n",
      "当前字母: o\n",
      "当前字母: w\n",
      "当前字母: M\n",
      "当前字母: e\n",
      "当前字母: A\n",
      "当前字母: I\n",
      "当前水果: banana\n",
      "当前水果: apple\n",
      "当前水果: mango\n",
      "完成!\n"
     ]
    }
   ],
   "source": [
    "# %s通过str()字符串转换来格式化\n",
    "for letter in 'ShowMeAI':     # 第一个实例\n",
    "   print(\"当前字母: %s\" % letter)\n",
    "\n",
    "fruits = ['banana', 'apple',  'mango']\n",
    "for fruit in fruits:        # 第二个实例\n",
    "   print('当前水果: %s'% fruit)\n",
    "\n",
    "print(\"完成!\")"
   ]
  },
  {
   "cell_type": "markdown",
   "id": "8d208c3c",
   "metadata": {},
   "source": [
    "# 通过序列索引迭代"
   ]
  },
  {
   "cell_type": "code",
   "execution_count": 2,
   "id": "f339e218",
   "metadata": {},
   "outputs": [
    {
     "name": "stdout",
     "output_type": "stream",
     "text": [
      "range(0, 3)\n",
      "当前水果 : 香蕉\n",
      "当前水果 : 苹果\n",
      "当前水果 : 葡萄\n",
      "完成!\n"
     ]
    }
   ],
   "source": [
    "fruits = ['香蕉', '苹果',  '葡萄']\n",
    "print(range(len(fruits)))\n",
    "for index in range(len(fruits)):\n",
    "   print('当前水果 : %s' % fruits[index])\n",
    "\n",
    "print(\"完成!\")"
   ]
  },
  {
   "cell_type": "markdown",
   "id": "f399a69f",
   "metadata": {},
   "source": [
    "## 循环使用else语句"
   ]
  },
  {
   "cell_type": "code",
   "execution_count": 7,
   "id": "edd97cd0",
   "metadata": {},
   "outputs": [
    {
     "name": "stdout",
     "output_type": "stream",
     "text": [
      "20 等于 2 * 10\n",
      "21 等于 3 * 7\n",
      "22 等于 2 * 11\n",
      "23 是一个质数\n",
      "24 等于 2 * 12\n",
      "25 等于 5 * 5\n",
      "26 等于 2 * 13\n",
      "27 等于 3 * 9\n",
      "28 等于 2 * 14\n",
      "29 是一个质数\n"
     ]
    }
   ],
   "source": [
    "# 有符号的十进制整数\n",
    "for num in range(20,30):  # 迭代 10 到 20 之间的数字\n",
    "   for i in range(2,num): # 根据因子迭代\n",
    "      if num%i == 0:      # 确定第一个因子\n",
    "         j=num/i          # 计算第二个因子\n",
    "         print ('%d 等于 %d * %d' % (num,i,j))\n",
    "         break            # 跳出当前循环\n",
    "   else:                  # 循环的 else 部分\n",
    "      print ('%d 是一个质数' % num)"
   ]
  },
  {
   "cell_type": "markdown",
   "id": "b117076d",
   "metadata": {},
   "source": [
    "## 经典案例-for循环绘图"
   ]
  },
  {
   "cell_type": "code",
   "execution_count": 9,
   "id": "0dd99276",
   "metadata": {},
   "outputs": [
    {
     "name": "stdout",
     "output_type": "stream",
     "text": [
      "输入列数： 6\n",
      "打印空心等边三角形，这里去掉if-else条件判断就是实心的\n",
      "      \n",
      "     *\n",
      "    * *\n",
      "   *   *\n",
      "  *     *\n",
      " *       *\n",
      "* * * * * *\n"
     ]
    }
   ],
   "source": [
    "rows = int(input('输入列数： '))\n",
    "print(\"打印空心等边三角形，这里去掉if-else条件判断就是实心的\")\n",
    "for i in range(0, rows + 1):#变量i控制行数\n",
    "    for j in range(0, rows - i):#(1,rows-i)\n",
    "        print(\" \", end='')\n",
    "        j += 1\n",
    "    for k in range(0, 2 * i - 1):#(1,2*i)\n",
    "        if k == 0 or k == 2 * i - 2 or i == rows:\n",
    "            if i == rows:\n",
    "                if k % 2 == 0:#因为第一个数是从0开始的，所以要是偶数打印*，奇数打印空格\n",
    "                    print(\"*\", end='')\n",
    "                else:\n",
    "                    print(\" \", end='')#注意这里的\", end='' \"，一定不能省略，可以起到不换行的作用\n",
    "            else:\n",
    "               print(\"*\", end='')\n",
    "        else:\n",
    "            print(\" \", end='')\n",
    "        k += 1\n",
    "    print(\"\\\n",
    "\")\n",
    "    i += 1"
   ]
  },
  {
   "cell_type": "code",
   "execution_count": 13,
   "id": "f4a7501a",
   "metadata": {
    "scrolled": true
   },
   "outputs": [
    {
     "name": "stdout",
     "output_type": "stream",
     "text": [
      "输入列数： 4\n",
      "打印空心等菱形，这里去掉if-else条件判断就是实心的\n",
      "    \n",
      "   *\n",
      "  * *\n",
      " *   *\n",
      "*     *\n",
      " *   *\n",
      "  * *\n",
      "   *\n"
     ]
    }
   ],
   "source": [
    "rows = int(input('输入列数： '))\n",
    "print(\"打印空心等菱形，这里去掉if-else条件判断就是实心的\")\n",
    "#rows = int(input('输入列数： '))\n",
    "for i in range(rows):#变量i控制行数\n",
    "    for j in range(rows - i):#(1,rows-i)\n",
    "        print(\" \", end='')\n",
    "        j += 1\n",
    "    for k in range(2 * i - 1):#(1,2*i)\n",
    "        if k == 0 or k == 2 * i - 2:\n",
    "            print(\"*\", end='')\n",
    "        else:\n",
    "            print(\" \", end='')\n",
    "        k += 1\n",
    "    print(\"\\\n",
    "\")\n",
    "    i += 1\n",
    "    #菱形的下半部分\n",
    "for i in range(rows):\n",
    "    for j in range(i):#(1,rows-i)\n",
    "        print(\" \", end='')\n",
    "        j += 1\n",
    "    for k in range(2 * (rows - i) - 1):#(1,2*i)\n",
    "        if k == 0 or k == 2 * (rows - i) - 2:\n",
    "            print(\"*\", end='')\n",
    "        else:\n",
    "            print(\" \", end='')\n",
    "        k += 1\n",
    "    print(\"\\\n",
    "\")\n",
    "    i += 1"
   ]
  },
  {
   "cell_type": "markdown",
   "id": "e697df85",
   "metadata": {},
   "source": [
    "# 10 break语句"
   ]
  },
  {
   "cell_type": "code",
   "execution_count": 14,
   "id": "36d3fc9a",
   "metadata": {},
   "outputs": [
    {
     "name": "stdout",
     "output_type": "stream",
     "text": [
      "当前字母 : I\n",
      "当前字母 : t\n",
      "当前字母 : I\n",
      "当前字母 : s\n",
      "当前字母 : S\n",
      "当前变量值 : 10\n",
      "当前变量值 : 9\n",
      "当前变量值 : 8\n",
      "当前变量值 : 7\n",
      "当前变量值 : 6\n",
      "完成!\n"
     ]
    }
   ],
   "source": [
    "for letter in 'ItIsShowMeAI':     # 第一个实例\n",
    "   if letter == 'h':\n",
    "      break\n",
    "   print('当前字母 :', letter)\n",
    "\n",
    "var = 10                    # 第二个实例\n",
    "while var > 0:              \n",
    "   print('当前变量值 :', var)\n",
    "   var = var -1\n",
    "   if var == 5:   # 当变量 var 等于 5 时退出循环 \n",
    "      break\n",
    "        \n",
    "print(\"完成!\")"
   ]
  },
  {
   "cell_type": "markdown",
   "id": "899e75e5",
   "metadata": {},
   "source": [
    "# 11 continue语句"
   ]
  },
  {
   "cell_type": "code",
   "execution_count": 16,
   "id": "88e44e1a",
   "metadata": {},
   "outputs": [
    {
     "name": "stdout",
     "output_type": "stream",
     "text": [
      "当前字母 : I\n",
      "当前字母 : t\n",
      "当前字母 : I\n",
      "当前字母 : s\n",
      "当前字母 : S\n",
      "当前字母 : o\n",
      "当前字母 : w\n",
      "当前字母 : M\n",
      "当前字母 : e\n",
      "当前字母 : A\n",
      "当前字母 : I\n",
      "当前变量值 : 9\n",
      "当前变量值 : 8\n",
      "当前变量值 : 7\n",
      "当前变量值 : 6\n",
      "当前变量值 : 4\n",
      "当前变量值 : 3\n",
      "当前变量值 : 2\n",
      "当前变量值 : 1\n",
      "当前变量值 : 0\n",
      "完成!\n"
     ]
    }
   ],
   "source": [
    "for letter in 'ItIsShowMeAI':     # 第一个实例\n",
    "   if letter == 'h':\n",
    "      continue\n",
    "   print('当前字母 :', letter)\n",
    "var = 10                    # 第二个实例\n",
    "while var > 0:              \n",
    "   var = var -1\n",
    "   if var == 5:\n",
    "      continue\n",
    "   print('当前变量值 :', var)\n",
    "print(\"完成!\")"
   ]
  },
  {
   "cell_type": "markdown",
   "id": "964f2738",
   "metadata": {},
   "source": [
    "# 12 pass语句"
   ]
  },
  {
   "cell_type": "code",
   "execution_count": 38,
   "id": "9437cd9d",
   "metadata": {},
   "outputs": [
    {
     "name": "stdout",
     "output_type": "stream",
     "text": [
      "当前字母 : I\n",
      "当前字母 : t\n",
      "当前字母 : I\n",
      "当前字母 : s\n",
      "当前字母 : S\n",
      "这是 pass 块\n",
      "当前字母 : h\n",
      "当前字母 : o\n",
      "当前字母 : w\n",
      "当前字母 : M\n",
      "当前字母 : e\n",
      "当前字母 : A\n",
      "当前字母 : I\n",
      "完成!\n"
     ]
    }
   ],
   "source": [
    "for letter in 'ItIsShowMeAI':\n",
    "   if letter == 'h':\n",
    "      pass\n",
    "      print('这是 pass 块')\n",
    "   print('当前字母 :', letter)\n",
    "\n",
    "print(\"完成!\")"
   ]
  },
  {
   "cell_type": "markdown",
   "id": "a9432a4e",
   "metadata": {},
   "source": [
    "# 13 字符串操作\n"
   ]
  },
  {
   "cell_type": "markdown",
   "id": "0c8b4886",
   "metadata": {},
   "source": [
    "## 访问字符串中的值"
   ]
  },
  {
   "cell_type": "code",
   "execution_count": 13,
   "id": "98e7160b",
   "metadata": {},
   "outputs": [
    {
     "name": "stdout",
     "output_type": "stream",
     "text": [
      "str1[0]:  H\n",
      "str2[1:5]:  ytho\n"
     ]
    }
   ],
   "source": [
    "str1 = 'Hello World!'\n",
    "str2 = \"Python ShowMeAI\"\n",
    "\n",
    "print(\"str1[0]: \", str1[0]) #index为0的字符\n",
    "print(\"str2[1:5]: \", str2[1:5]) #从index为1开始到5结束(不包含5)"
   ]
  },
  {
   "cell_type": "markdown",
   "id": "4faada2c",
   "metadata": {},
   "source": [
    "## 字符串连接"
   ]
  },
  {
   "cell_type": "code",
   "execution_count": 14,
   "id": "a312d580",
   "metadata": {},
   "outputs": [
    {
     "name": "stdout",
     "output_type": "stream",
     "text": [
      "输出 : Hello ShowMeAI!\n"
     ]
    }
   ],
   "source": [
    "str1 = 'Hello World!'\n",
    "print(\"输出 :\", str1[:6] + 'ShowMeAI!')"
   ]
  },
  {
   "cell_type": "markdown",
   "id": "42568e02",
   "metadata": {},
   "source": [
    "## 字符串运算符"
   ]
  },
  {
   "cell_type": "code",
   "execution_count": 15,
   "id": "0aac1249",
   "metadata": {},
   "outputs": [
    {
     "name": "stdout",
     "output_type": "stream",
     "text": [
      "a + b 输出结果： HelloPython\n",
      "a * 2 输出结果： HelloHello\n",
      "a[1] 输出结果： e\n",
      "a[1:4] 输出结果： ell\n",
      "H 在变量 a 中\n",
      "M 不在变量 a 中\n",
      "\\\n",
      "\n",
      "\\\n",
      "\n"
     ]
    }
   ],
   "source": [
    "a = \"Hello\"\n",
    "b = \"Python\"\n",
    "print(\"a + b 输出结果：\", a + b )\n",
    "print(\"a * 2 输出结果：\", a * 2 )\n",
    "print(\"a[1] 输出结果：\", a[1] )\n",
    "print(\"a[1:4] 输出结果：\", a[1:4] )\n",
    "if( \"H\" in a) :\n",
    "    print(\"H 在变量 a 中\" )\n",
    "else :\n",
    "    print(\"H 不在变量 a 中\" )\n",
    "if( \"M\" not in a) :\n",
    "    print(\"M 不在变量 a 中\" )\n",
    "else :\n",
    "    print(\"M 在变量 a 中\")\n",
    "print(r'\\\n",
    "')\n",
    "print(R'\\\n",
    "')"
   ]
  },
  {
   "cell_type": "markdown",
   "id": "9a3de8b8",
   "metadata": {},
   "source": [
    "## 字符串格式化"
   ]
  },
  {
   "cell_type": "markdown",
   "id": "d37b7bee",
   "metadata": {},
   "source": [
    "### （1）基础用法"
   ]
  },
  {
   "cell_type": "code",
   "execution_count": 16,
   "id": "60fe4bd0",
   "metadata": {},
   "outputs": [
    {
     "name": "stdout",
     "output_type": "stream",
     "text": [
      "The website is ShowMeAI and the author's age is 30!\n"
     ]
    }
   ],
   "source": [
    "print(\"The website is %s and the author's age is %d!\" % ('ShowMeAI', 30) )"
   ]
  },
  {
   "cell_type": "markdown",
   "id": "45bc1b00",
   "metadata": {},
   "source": [
    "### （2）format格式化字符串"
   ]
  },
  {
   "cell_type": "code",
   "execution_count": 17,
   "id": "0742808f",
   "metadata": {},
   "outputs": [
    {
     "data": {
      "text/plain": [
       "'hello ShowMeAI'"
      ]
     },
     "execution_count": 17,
     "metadata": {},
     "output_type": "execute_result"
    }
   ],
   "source": [
    "\"{} {}\".format(\"hello\", \"ShowMeAI\")    # 不设置指定位置，按默认顺序"
   ]
  },
  {
   "cell_type": "code",
   "execution_count": 18,
   "id": "20f039ed",
   "metadata": {},
   "outputs": [
    {
     "data": {
      "text/plain": [
       "'hello ShowMeAI'"
      ]
     },
     "execution_count": 18,
     "metadata": {},
     "output_type": "execute_result"
    }
   ],
   "source": [
    "\"{0} {1}\".format(\"hello\", \"ShowMeAI\")  # 设置指定位置"
   ]
  },
  {
   "cell_type": "code",
   "execution_count": 19,
   "id": "5c330713",
   "metadata": {},
   "outputs": [
    {
     "data": {
      "text/plain": [
       "'ShowMeAI hello ShowMeAI'"
      ]
     },
     "execution_count": 19,
     "metadata": {},
     "output_type": "execute_result"
    }
   ],
   "source": [
    "\"{1} {0} {1}\".format(\"hello\", \"ShowMeAI\")  # 设置指定位置"
   ]
  },
  {
   "cell_type": "code",
   "execution_count": 4,
   "id": "9852e89c",
   "metadata": {},
   "outputs": [
    {
     "name": "stdout",
     "output_type": "stream",
     "text": [
      "网站名：ShowMeAI知识社区, 地址 www.showmeai.tech\n",
      "网站名：ShowMeAI知识社区, 地址 www.showmeai.tech\n",
      "网站名：ShowMeAI知识社区, 地址 www.showmeai.tech\n"
     ]
    }
   ],
   "source": [
    "print(\"网站名：{name}, 地址 {url}\".format(name=\"ShowMeAI知识社区\", url=\"www.showmeai.tech\"))\n",
    "# print(\"网站名：{url}, 地址 {url}\".format(name=\"ShowMeAI知识社区\", url=\"www.showmeai.tech\"))\n",
    "# 通过字典设置参数\n",
    "site = {\"name\": \"ShowMeAI知识社区\", \"url\": \"www.showmeai.tech\"}\n",
    "print(\"网站名：{name}, 地址 {url}\".format(**site))\n",
    "\n",
    "# 通过列表索引设置参数\n",
    "my_list = ['ShowMeAI知识社区', 'www.showmeai.tech']\n",
    "print(\"网站名：{0[0]}, 地址 {0[1]}\".format(my_list))  # \"0\" 是必须的"
   ]
  },
  {
   "cell_type": "code",
   "execution_count": 21,
   "id": "635aad36",
   "metadata": {},
   "outputs": [
    {
     "name": "stdout",
     "output_type": "stream",
     "text": [
      "3.14\n"
     ]
    }
   ],
   "source": [
    "print(\"{:.2f}\".format(3.1415926))"
   ]
  },
  {
   "cell_type": "code",
   "execution_count": 41,
   "id": "4708c301",
   "metadata": {},
   "outputs": [
    {
     "name": "stdout",
     "output_type": "stream",
     "text": [
      "ShowMeAI 对应的优先级是 {0}\n",
      "{0} 对应的优先级是 ShowMeAI\n"
     ]
    }
   ],
   "source": [
    "# 我们可以使用大括号 {} 来转义大括号\n",
    "print(\"{} 对应的优先级是 {{0}}\".format(\"ShowMeAI\"))\n",
    "print(\"{{0}} 对应的优先级是 {}\".format(\"ShowMeAI\"))"
   ]
  },
  {
   "cell_type": "markdown",
   "id": "9eefc7a8",
   "metadata": {},
   "source": [
    "## Python三引号"
   ]
  },
  {
   "cell_type": "code",
   "execution_count": 45,
   "id": "3cc1f844",
   "metadata": {},
   "outputs": [
    {
     "data": {
      "text/plain": "'hi\\n\\nthere'"
     },
     "execution_count": 45,
     "metadata": {},
     "output_type": "execute_result"
    }
   ],
   "source": [
    "# Python 中三引号可以将复杂的字符串进行赋值。\n",
    "# Python 三引号允许一个字符串跨多行，字符串中可以包含换行符、制表符以及其他特殊字符。\n",
    "hi = '''hi\n",
    "\n",
    "there'''\n",
    "hi"
   ]
  },
  {
   "cell_type": "code",
   "execution_count": 46,
   "id": "ffd458d9",
   "metadata": {},
   "outputs": [
    {
     "name": "stdout",
     "output_type": "stream",
     "text": [
      "hi\n",
      "\n",
      "there\n"
     ]
    }
   ],
   "source": [
    "print(hi)"
   ]
  },
  {
   "cell_type": "markdown",
   "id": "e08bf3ed",
   "metadata": {},
   "source": [
    "## Unicode字符串"
   ]
  },
  {
   "cell_type": "code",
   "execution_count": 49,
   "id": "940105e2",
   "metadata": {},
   "outputs": [
    {
     "data": {
      "text/plain": "'Hello World !'"
     },
     "execution_count": 49,
     "metadata": {},
     "output_type": "execute_result"
    }
   ],
   "source": [
    " # 引号前小写的”u”表示这里创建的是一个 Unicode 字符串。如果你想加入一个特殊字符，可以使用 Python 的 Unicode-Escape 编码。如下例所示：\n",
    " u'Hello World !'"
   ]
  },
  {
   "cell_type": "code",
   "execution_count": 50,
   "id": "40e713b0",
   "metadata": {},
   "outputs": [
    {
     "data": {
      "text/plain": "'Hello World !'"
     },
     "execution_count": 50,
     "metadata": {},
     "output_type": "execute_result"
    }
   ],
   "source": [
    "u'Hello\\u0020World !'\n",
    "# 被替换的 \\u0020 标识表示在给定位置插入编码值为 0x0020 的 Unicode 字符（空格符）。"
   ]
  },
  {
   "cell_type": "markdown",
   "id": "a805e74d",
   "metadata": {},
   "source": [
    "# 14 列表"
   ]
  },
  {
   "cell_type": "markdown",
   "id": "4f09c911",
   "metadata": {},
   "source": [
    "## 访问列表的值"
   ]
  },
  {
   "cell_type": "code",
   "execution_count": 27,
   "id": "384e1149",
   "metadata": {},
   "outputs": [
    {
     "name": "stdout",
     "output_type": "stream",
     "text": [
      "list1[0]:  python\n",
      "list2[1:5]:  [2, 3, 4, 5]\n"
     ]
    }
   ],
   "source": [
    "list1 = ['python', 'ShowMeAI', 1997, 2022]\n",
    "list2 = [1, 2, 3, 4, 5, 6, 7 ]\n",
    "\n",
    "print(\"list1[0]: \", list1[0])\n",
    "print(\"list2[1:5]: \", list2[1:5])"
   ]
  },
  {
   "cell_type": "code",
   "execution_count": 75,
   "id": "1cd4c68a",
   "metadata": {},
   "outputs": [
    {
     "name": "stdout",
     "output_type": "stream",
     "text": [
      "black\n",
      "['red', 'green', 'blue', 'yellow']\n",
      "['yellow', 'white', 'black']\n"
     ]
    }
   ],
   "source": [
    "Tlist = ['red', 'green', 'blue', 'yellow', 'white', 'black']\n",
    "print( Tlist[-1] )\n",
    "print( Tlist[:-2] )\n",
    "print( Tlist[-3:] )"
   ]
  },
  {
   "cell_type": "markdown",
   "id": "3ac1029c",
   "metadata": {},
   "source": [
    "## 更新列表"
   ]
  },
  {
   "cell_type": "code",
   "execution_count": 5,
   "id": "99d0ee85",
   "metadata": {},
   "outputs": [
    {
     "name": "stdout",
     "output_type": "stream",
     "text": [
      "['Google', 'ShowMeAI']\n"
     ]
    }
   ],
   "source": [
    "Tlist = []          # 空列表\n",
    "Tlist.append('Google')   # 使用\n",
    "# append() 添加元素\n",
    "Tlist.append('ShowMeAI')\n",
    "print(Tlist)"
   ]
  },
  {
   "cell_type": "markdown",
   "id": "ea412838",
   "metadata": {},
   "source": [
    "## 删除列表元素"
   ]
  },
  {
   "cell_type": "code",
   "execution_count": 77,
   "id": "8d231f13",
   "metadata": {},
   "outputs": [
    {
     "name": "stdout",
     "output_type": "stream",
     "text": [
      "['python', 'ShowMeAI', 1997, 2022]\n",
      "删除索引为2的元素后 : \n",
      "['python', 'ShowMeAI', 2022]\n"
     ]
    }
   ],
   "source": [
    "list1 = ['python', 'ShowMeAI', 1997, 2022]\n",
    "print(list1)\n",
    "del list1[2]\n",
    "print(\"删除索引为2的元素后 : \")\n",
    "print(list1)"
   ]
  },
  {
   "cell_type": "markdown",
   "id": "2fa218c7",
   "metadata": {},
   "source": [
    "## 列表截取"
   ]
  },
  {
   "cell_type": "code",
   "execution_count": 78,
   "id": "b2b8de3e",
   "metadata": {},
   "outputs": [
    {
     "data": {
      "text/plain": "'Baidu'"
     },
     "execution_count": 78,
     "metadata": {},
     "output_type": "execute_result"
    }
   ],
   "source": [
    "L = ['Google', 'ShowMeAI', 'Baidu']\n",
    "L[2]"
   ]
  },
  {
   "cell_type": "code",
   "execution_count": 79,
   "id": "f8cfa0ae",
   "metadata": {},
   "outputs": [
    {
     "data": {
      "text/plain": "'ShowMeAI'"
     },
     "execution_count": 79,
     "metadata": {},
     "output_type": "execute_result"
    }
   ],
   "source": [
    "L[-2]"
   ]
  },
  {
   "cell_type": "code",
   "execution_count": 80,
   "id": "90e60779",
   "metadata": {},
   "outputs": [
    {
     "data": {
      "text/plain": "['ShowMeAI', 'Baidu']"
     },
     "execution_count": 80,
     "metadata": {},
     "output_type": "execute_result"
    }
   ],
   "source": [
    "L[1:]"
   ]
  },
  {
   "cell_type": "markdown",
   "id": "3c2292c4",
   "metadata": {},
   "source": [
    "## 列表函数方法"
   ]
  },
  {
   "cell_type": "code",
   "execution_count": 1,
   "id": "73da8cec",
   "metadata": {},
   "outputs": [
    {
     "name": "stdout",
     "output_type": "stream",
     "text": [
      "第1个列表长度 :  3\n",
      "第2个列表长度 :  2\n"
     ]
    }
   ],
   "source": [
    "# 示例1：长度\n",
    "list1, list2 = [123, 'ShowMeAI', 'google'], [456, 'abc']\n",
    "print(\"第1个列表长度 : \", len(list1))\n",
    "print(\"第2个列表长度 : \", len(list2))"
   ]
  },
  {
   "cell_type": "code",
   "execution_count": 2,
   "id": "905cb96e",
   "metadata": {},
   "outputs": [
    {
     "name": "stdout",
     "output_type": "stream",
     "text": [
      "第1个列表最大值 :  google\n",
      "第1个列表最小值 :  Baidu\n",
      "第2个列表最大值 :  789\n",
      "第2个列表最小值 :  200\n"
     ]
    }
   ],
   "source": [
    "# 示例2：最大最小值\n",
    "list1, list2 = ['Baidu', 'ShowMeAI', 'google'], [456, 789, 200]\n",
    "print(\"第1个列表最大值 : \", max(list1))\n",
    "print(\"第1个列表最小值 : \", min(list1))\n",
    "print(\"第2个列表最大值 : \", max(list2))\n",
    "print(\"第2个列表最小值 : \", min(list2))"
   ]
  },
  {
   "cell_type": "code",
   "execution_count": 4,
   "id": "7a436912",
   "metadata": {},
   "outputs": [
    {
     "name": "stdout",
     "output_type": "stream",
     "text": [
      "列表元素 : \n",
      "[123, 'ShowMeAI', 'google', 'Baidu']\n"
     ]
    }
   ],
   "source": [
    "# 示例3：转列表\n",
    "aTuple = (123, 'ShowMeAI', 'google', 'Baidu')\n",
    "aList = list(aTuple)\n",
    "print(\"列表元素 : \")\n",
    "print(aList)"
   ]
  },
  {
   "cell_type": "markdown",
   "source": [
    "1\tlist.append(obj)\t在列表末尾添加新的对象\n",
    "2\tlist.count(obj)\t统计某个元素在列表中出现的次数\n",
    "3\tlist.extend(seq)\t在列表末尾一次性追加另一个序列中的多个值（用新列表扩展原来的列表）\n",
    "4\tlist.index(obj)\t从列表中找出某个值第一个匹配项的索引位置\n",
    "5\tlist.insert(index, obj)\t将对象插入列表\n",
    "6\tlist.pop([index=-1])\t移除列表中的一个元素（默认最后一个元素），并且返回该元素的值\n",
    "7\tlist.remove(obj)\t移除列表中某个值的第一个匹配项\n",
    "8\tlist.reverse()\t反向列表中元素\n",
    "9\tlist.sort(cmp=None, key=None, reverse=False)\t对原列表进行排序"
   ],
   "metadata": {
    "collapsed": false,
    "pycharm": {
     "name": "#%% md\n"
    }
   }
  },
  {
   "cell_type": "code",
   "execution_count": 13,
   "id": "3021b19f",
   "metadata": {},
   "outputs": [
    {
     "name": "stdout",
     "output_type": "stream",
     "text": [
      "aList :  ['Baidu', 'ShowMeAI', 'google']\n",
      "经过append和+计算后的aList :  ['Baidu', 'ShowMeAI', 'google', 'ByteDance', 'ShowMeAI']\n",
      "统计ShowMeAI个数 :  2\n",
      "经过extend后的aList :  ['Baidu', 'ShowMeAI', 'google', 'ByteDance', 'ShowMeAI', 'Taobao', 'Tencent']\n",
      "使用index查找Taobao的索引位置:  5\n",
      "在index为3的位置insert元素后的aList :  ['Baidu', 'ShowMeAI', 'google', 'DiDi', 'ByteDance', 'ShowMeAI', 'Taobao', 'Tencent']\n",
      "aList pop出的元素:  Tencent\n",
      "aList用remove删除第1个匹配到的ShowMeAI后:  ['Baidu', 'google', 'DiDi', 'ByteDance', 'ShowMeAI', 'Taobao']\n",
      "aList使用reverse逆序后的结果:  ['Taobao', 'ShowMeAI', 'ByteDance', 'DiDi', 'google', 'Baidu']\n",
      "aList使用sort排序后的结果:  ['Baidu', 'ByteDance', 'DiDi', 'ShowMeAI', 'Taobao', 'google']\n"
     ]
    }
   ],
   "source": [
    "aList = ['Baidu', 'ShowMeAI', 'google']\n",
    "print(\"aList : \", aList)\n",
    "aList.append( 'ByteDance' )\n",
    "aList += ['ShowMeAI']\n",
    "print(\"经过append和+计算后的aList : \", aList)\n",
    "print(\"统计ShowMeAI个数 : \", aList.count('ShowMeAI'))\n",
    "aList.extend(['Taobao', 'Tencent'])\n",
    "print(\"经过extend后的aList : \", aList)\n",
    "print(\"使用index查找Taobao的索引位置: \", aList.index('Taobao'))\n",
    "aList.insert( 3, 'DiDi')\n",
    "print(\"在index为3的位置insert元素后的aList : \", aList)\n",
    "print(\"aList pop出的元素: \", aList.pop())\n",
    "aList.remove('ShowMeAI')\n",
    "print(\"aList用remove删除第1个匹配到的ShowMeAI后: \", aList)\n",
    "aList.reverse()\n",
    "print(\"aList使用reverse逆序后的结果: \", aList)\n",
    "aList.sort()\n",
    "print(\"aList使用sort排序后的结果: \", aList)"
   ]
  },
  {
   "cell_type": "markdown",
   "id": "1f1d0f4a",
   "metadata": {},
   "source": [
    "# 15 元组"
   ]
  },
  {
   "cell_type": "markdown",
   "id": "f8c08121",
   "metadata": {},
   "source": [
    "## 访问元组"
   ]
  },
  {
   "cell_type": "code",
   "execution_count": 6,
   "id": "fdf8ddff",
   "metadata": {},
   "outputs": [
    {
     "name": "stdout",
     "output_type": "stream",
     "text": [
      "tup1[0]:  python\n",
      "tup2[1:5]:  [2, 3, 4, 5]\n"
     ]
    }
   ],
   "source": [
    "tup1 = ['python', 'ShowMeAI', 1997, 2022]\n",
    "tup2 = [1, 2, 3, 4, 5, 6, 7 ]\n",
    "\n",
    "print(\"tup1[0]: \", tup1[0])\n",
    "print(\"tup2[1:5]: \", tup2[1:5])"
   ]
  },
  {
   "cell_type": "markdown",
   "id": "7c6764ca",
   "metadata": {},
   "source": [
    "## 修改元组"
   ]
  },
  {
   "cell_type": "code",
   "execution_count": 15,
   "id": "1286d3a1",
   "metadata": {},
   "outputs": [
    {
     "name": "stdout",
     "output_type": "stream",
     "text": [
      "(12, 34.56, 'abc', 'xyz')\n"
     ]
    }
   ],
   "source": [
    "tup1 = (12, 34.56)\n",
    "tup2 = ('abc', 'xyz')\n",
    "\n",
    "# 以下修改元组元素操作是非法的。\n",
    "# tup1[0] = 100\n",
    "\n",
    "# 创建一个新的元组\n",
    "tup3 = tup1 + tup2\n",
    "print(tup3)"
   ]
  },
  {
   "cell_type": "markdown",
   "id": "8f9f67e0",
   "metadata": {},
   "source": [
    "## 删除元组"
   ]
  },
  {
   "cell_type": "code",
   "execution_count": 9,
   "id": "8bb4aae5",
   "metadata": {},
   "outputs": [
    {
     "name": "stdout",
     "output_type": "stream",
     "text": [
      "('python', 'ShowMeAI', 1997, 2022)\n",
      "删除tup后 : \n"
     ]
    },
    {
     "ename": "NameError",
     "evalue": "name 'tup' is not defined",
     "output_type": "error",
     "traceback": [
      "\u001B[1;31m---------------------------------------------------------------------------\u001B[0m",
      "\u001B[1;31mNameError\u001B[0m                                 Traceback (most recent call last)",
      "\u001B[1;32m~\\AppData\\Local\\Temp\\ipykernel_22188\\3598230292.py\u001B[0m in \u001B[0;36m<module>\u001B[1;34m\u001B[0m\n\u001B[0;32m      4\u001B[0m \u001B[1;32mdel\u001B[0m \u001B[0mtup\u001B[0m\u001B[1;33m\u001B[0m\u001B[1;33m\u001B[0m\u001B[0m\n\u001B[0;32m      5\u001B[0m \u001B[0mprint\u001B[0m\u001B[1;33m(\u001B[0m\u001B[1;34m\"删除tup后 : \"\u001B[0m\u001B[1;33m)\u001B[0m\u001B[1;33m\u001B[0m\u001B[1;33m\u001B[0m\u001B[0m\n\u001B[1;32m----> 6\u001B[1;33m \u001B[0mprint\u001B[0m\u001B[1;33m(\u001B[0m\u001B[0mtup\u001B[0m\u001B[1;33m)\u001B[0m\u001B[1;33m\u001B[0m\u001B[1;33m\u001B[0m\u001B[0m\n\u001B[0m",
      "\u001B[1;31mNameError\u001B[0m: name 'tup' is not defined"
     ]
    }
   ],
   "source": [
    "tup = ('python', 'ShowMeAI', 1997, 2022)\n",
    "\n",
    "print(tup)\n",
    "del tup\n",
    "print(\"删除tup后 : \")\n",
    "print(tup)"
   ]
  },
  {
   "cell_type": "markdown",
   "id": "f027887c",
   "metadata": {},
   "source": [
    "## 无关闭分隔符"
   ]
  },
  {
   "cell_type": "code",
   "execution_count": 10,
   "id": "2fe2bb7d",
   "metadata": {},
   "outputs": [
    {
     "name": "stdout",
     "output_type": "stream",
     "text": [
      "abc -4.24e+93 (18+6.6j) xyz\n",
      "Value of x , y :  1 2\n"
     ]
    }
   ],
   "source": [
    "# 任意无符号的对象，以逗号隔开，默认为元组，\n",
    "print('abc', -4.24e93, 18+6.6j, 'xyz')\n",
    "x, y = 1, 2\n",
    "print(\"Value of x , y : \", x,y)"
   ]
  },
  {
   "cell_type": "markdown",
   "id": "3d5a05df",
   "metadata": {},
   "source": [
    "# 16 字典"
   ]
  },
  {
   "cell_type": "code",
   "execution_count": 11,
   "id": "7037f7c4",
   "metadata": {},
   "outputs": [
    {
     "data": {
      "text/plain": "'3'"
     },
     "execution_count": 11,
     "metadata": {},
     "output_type": "execute_result"
    }
   ],
   "source": [
    "# 键一般是唯一的，如果重复最后的一个键值对会替换前面的，值不需要唯一。\n",
    "dict = {'a': 1, 'b': 2, 'b': '3'}\n",
    "dict['b']"
   ]
  },
  {
   "cell_type": "code",
   "execution_count": 9,
   "id": "5516d939",
   "metadata": {},
   "outputs": [
    {
     "data": {
      "text/plain": [
       "{'a': 1, 'b': '3'}"
      ]
     },
     "execution_count": 9,
     "metadata": {},
     "output_type": "execute_result"
    }
   ],
   "source": [
    "dict"
   ]
  },
  {
   "cell_type": "markdown",
   "id": "f57ac687",
   "metadata": {},
   "source": [
    "## 访问字典里的值"
   ]
  },
  {
   "cell_type": "code",
   "execution_count": 12,
   "id": "8fca59ae",
   "metadata": {},
   "outputs": [
    {
     "name": "stdout",
     "output_type": "stream",
     "text": [
      "dict['Name']:  ShowMeAI\n",
      "dict['Color']:  Blue\n"
     ]
    }
   ],
   "source": [
    "dict = {'Name': 'ShowMeAI', 'Color': 'Blue', 'Class': 'First'}\n",
    "print(\"dict['Name']: \", dict['Name'])\n",
    "print(\"dict['Color']: \", dict['Color'])"
   ]
  },
  {
   "cell_type": "code",
   "execution_count": 14,
   "id": "02333310",
   "metadata": {},
   "outputs": [
    {
     "ename": "KeyError",
     "evalue": "'Age'",
     "output_type": "error",
     "traceback": [
      "\u001B[1;31m---------------------------------------------------------------------------\u001B[0m",
      "\u001B[1;31mKeyError\u001B[0m                                  Traceback (most recent call last)",
      "\u001B[1;32m~\\AppData\\Local\\Temp\\ipykernel_22188\\2130731854.py\u001B[0m in \u001B[0;36m<module>\u001B[1;34m\u001B[0m\n\u001B[0;32m      1\u001B[0m \u001B[1;31m# 如果用字典里没有的键访问数据，会输出错误如下：\u001B[0m\u001B[1;33m\u001B[0m\u001B[1;33m\u001B[0m\u001B[0m\n\u001B[0;32m      2\u001B[0m \u001B[0mdict\u001B[0m \u001B[1;33m=\u001B[0m \u001B[1;33m{\u001B[0m\u001B[1;34m'Name'\u001B[0m\u001B[1;33m:\u001B[0m \u001B[1;34m'ShowMeAI'\u001B[0m\u001B[1;33m,\u001B[0m \u001B[1;34m'Color'\u001B[0m\u001B[1;33m:\u001B[0m \u001B[1;34m'Blue'\u001B[0m\u001B[1;33m,\u001B[0m \u001B[1;34m'Class'\u001B[0m\u001B[1;33m:\u001B[0m \u001B[1;34m'First'\u001B[0m\u001B[1;33m}\u001B[0m\u001B[1;33m\u001B[0m\u001B[1;33m\u001B[0m\u001B[0m\n\u001B[1;32m----> 3\u001B[1;33m \u001B[0mprint\u001B[0m\u001B[1;33m(\u001B[0m\u001B[1;34m\"dict['Age']: \"\u001B[0m\u001B[1;33m,\u001B[0m \u001B[0mdict\u001B[0m\u001B[1;33m[\u001B[0m\u001B[1;34m'Age'\u001B[0m\u001B[1;33m]\u001B[0m\u001B[1;33m)\u001B[0m\u001B[1;33m\u001B[0m\u001B[1;33m\u001B[0m\u001B[0m\n\u001B[0m",
      "\u001B[1;31mKeyError\u001B[0m: 'Age'"
     ]
    }
   ],
   "source": [
    "# 如果用字典里没有的键访问数据，会输出错误如下：\n",
    "dict = {'Name': 'ShowMeAI', 'Color': 'Blue', 'Class': 'First'}\n",
    "print(\"dict['Age']: \", dict['Age'])"
   ]
  },
  {
   "cell_type": "markdown",
   "id": "a11d4f85",
   "metadata": {},
   "source": [
    "## 修改字典"
   ]
  },
  {
   "cell_type": "code",
   "execution_count": 13,
   "id": "1ff32be5",
   "metadata": {
    "scrolled": true
   },
   "outputs": [
    {
     "name": "stdout",
     "output_type": "stream",
     "text": [
      "dict['Age']:  8\n",
      "dict['School']:  ShowMeAI\n"
     ]
    }
   ],
   "source": [
    "dict = {'Name': 'Zara', 'Age': 7, 'Class': 'First'}\n",
    "dict['Age'] = 8 # 更新\n",
    "dict['School'] = \"ShowMeAI\" # 添加\n",
    "print (\"dict['Age']: \", dict['Age'])\n",
    "print (\"dict['School']: \", dict['School'])"
   ]
  },
  {
   "cell_type": "markdown",
   "id": "52b65c9e",
   "metadata": {},
   "source": [
    "## 删除字典元素"
   ]
  },
  {
   "cell_type": "code",
   "execution_count": 15,
   "id": "053c1037",
   "metadata": {},
   "outputs": [
    {
     "name": "stdout",
     "output_type": "stream",
     "text": [
      "dict['Age']:  dict['Age']\n",
      "dict['School']:  dict['School']\n"
     ]
    }
   ],
   "source": [
    "dict = {'Name': 'Zara', 'Age': 7, 'Class': 'First'}\n",
    "del dict['Name']  # 删除键是'Name'的条目\n",
    "dict.clear()      # 清空字典所有条目\n",
    "del dict          # 删除字典\n",
    "print(\"dict['Age']: \", dict['Age'] )\n",
    "print(\"dict['School']: \", dict['School'])"
   ]
  },
  {
   "cell_type": "markdown",
   "id": "16d567d4",
   "metadata": {},
   "source": [
    "## 字典键的特性"
   ]
  },
  {
   "cell_type": "code",
   "execution_count": 18,
   "id": "513a513d",
   "metadata": {},
   "outputs": [
    {
     "name": "stdout",
     "output_type": "stream",
     "text": [
      "dict['Name']:  ShowMeAI\n"
     ]
    }
   ],
   "source": [
    "# 不允许同一个键出现两次。创建时如果同一个键被赋值两次，后一个值会更新前一个，如下实\n",
    "dict = {'Name': 'Zara', 'Age': 7, 'Name': 'ShowMeAI'}\n",
    "print (\"dict['Name']: \", dict['Name'])"
   ]
  },
  {
   "cell_type": "code",
   "execution_count": 20,
   "id": "3c38b2e4",
   "metadata": {},
   "outputs": [
    {
     "ename": "TypeError",
     "evalue": "unhashable type: 'list'",
     "output_type": "error",
     "traceback": [
      "\u001B[1;31m---------------------------------------------------------------------------\u001B[0m",
      "\u001B[1;31mTypeError\u001B[0m                                 Traceback (most recent call last)",
      "\u001B[1;32m~\\AppData\\Local\\Temp\\ipykernel_22188\\819753864.py\u001B[0m in \u001B[0;36m<module>\u001B[1;34m\u001B[0m\n\u001B[0;32m      1\u001B[0m \u001B[1;31m# 键必须不可变，所以可以用数字，字符串或元组充当，所以用列表就不行，如下实例\u001B[0m\u001B[1;33m\u001B[0m\u001B[1;33m\u001B[0m\u001B[0m\n\u001B[1;32m----> 2\u001B[1;33m \u001B[0mdict\u001B[0m \u001B[1;33m=\u001B[0m \u001B[1;33m{\u001B[0m\u001B[1;33m[\u001B[0m\u001B[1;34m'Name'\u001B[0m\u001B[1;33m]\u001B[0m\u001B[1;33m:\u001B[0m \u001B[1;34m'Zara'\u001B[0m\u001B[1;33m,\u001B[0m \u001B[1;34m'Age'\u001B[0m\u001B[1;33m:\u001B[0m \u001B[1;36m7\u001B[0m\u001B[1;33m}\u001B[0m\u001B[1;33m\u001B[0m\u001B[1;33m\u001B[0m\u001B[0m\n\u001B[0m\u001B[0;32m      3\u001B[0m \u001B[0mprint\u001B[0m\u001B[1;33m(\u001B[0m\u001B[1;34m\"dict['Name']: \"\u001B[0m\u001B[1;33m,\u001B[0m \u001B[0mdict\u001B[0m\u001B[1;33m[\u001B[0m\u001B[1;34m'Name'\u001B[0m\u001B[1;33m]\u001B[0m\u001B[1;33m)\u001B[0m\u001B[1;33m\u001B[0m\u001B[1;33m\u001B[0m\u001B[0m\n",
      "\u001B[1;31mTypeError\u001B[0m: unhashable type: 'list'"
     ]
    }
   ],
   "source": [
    "# 键必须不可变，所以可以用数字，字符串或元组充当，所以用列表就不行，如下实例\n",
    "dict = {['Name']: 'Zara', 'Age': 7}\n",
    "print(\"dict['Name']: \", dict['Name'])"
   ]
  },
  {
   "cell_type": "markdown",
   "id": "598061ba",
   "metadata": {},
   "source": [
    "# 17 集合"
   ]
  },
  {
   "cell_type": "code",
   "execution_count": 20,
   "id": "c655ea55",
   "metadata": {},
   "outputs": [
    {
     "name": "stdout",
     "output_type": "stream",
     "text": [
      "{'ShowMeAI', 'Tencent', 'Taobao', 'Baidu', 'ByteDance', 'google'}\n"
     ]
    }
   ],
   "source": [
    "company = {'Baidu', 'ShowMeAI', 'google', 'ByteDance', 'ShowMeAI', 'Taobao', 'Tencent'}\n",
    "print(company)   "
   ]
  },
  {
   "cell_type": "code",
   "execution_count": 23,
   "id": "8abc3202",
   "metadata": {
    "scrolled": true
   },
   "outputs": [
    {
     "data": {
      "text/plain": [
       "True"
      ]
     },
     "execution_count": 23,
     "metadata": {},
     "output_type": "execute_result"
    }
   ],
   "source": [
    "'Baidu' in company         # 快速判断元素是否在集合内"
   ]
  },
  {
   "cell_type": "code",
   "execution_count": 24,
   "id": "86684895",
   "metadata": {},
   "outputs": [
    {
     "data": {
      "text/plain": [
       "False"
      ]
     },
     "execution_count": 24,
     "metadata": {},
     "output_type": "execute_result"
    }
   ],
   "source": [
    "'Meituan' in company"
   ]
  },
  {
   "cell_type": "code",
   "execution_count": 21,
   "id": "c2f6c008",
   "metadata": {},
   "outputs": [
    {
     "data": {
      "text/plain": "{'a', 'b', 'c', 'd', 'r'}"
     },
     "execution_count": 21,
     "metadata": {},
     "output_type": "execute_result"
    }
   ],
   "source": [
    "# 下面展示两个集合间的运算.\n",
    "a = set('abracadabra')\n",
    "b = set('alacazam')\n",
    "a"
   ]
  },
  {
   "cell_type": "code",
   "execution_count": 22,
   "id": "771178c5",
   "metadata": {},
   "outputs": [
    {
     "data": {
      "text/plain": "{'b', 'd', 'r'}"
     },
     "execution_count": 22,
     "metadata": {},
     "output_type": "execute_result"
    }
   ],
   "source": [
    "a - b                # 集合a中包含而集合b中不包含的元素"
   ]
  },
  {
   "cell_type": "code",
   "execution_count": 23,
   "id": "557c451f",
   "metadata": {},
   "outputs": [
    {
     "data": {
      "text/plain": "{'a', 'b', 'c', 'd', 'l', 'm', 'r', 'z'}"
     },
     "execution_count": 23,
     "metadata": {},
     "output_type": "execute_result"
    }
   ],
   "source": [
    "a | b                # 集合a或b中包含的所有元素"
   ]
  },
  {
   "cell_type": "code",
   "execution_count": 24,
   "id": "9b0cf93f",
   "metadata": {},
   "outputs": [
    {
     "data": {
      "text/plain": "{'a', 'c'}"
     },
     "execution_count": 24,
     "metadata": {},
     "output_type": "execute_result"
    }
   ],
   "source": [
    "a & b                # 集合a和b中都包含了的元素"
   ]
  },
  {
   "cell_type": "code",
   "execution_count": 25,
   "id": "474da33e",
   "metadata": {},
   "outputs": [
    {
     "data": {
      "text/plain": "{'b', 'd', 'l', 'm', 'r', 'z'}"
     },
     "execution_count": 25,
     "metadata": {},
     "output_type": "execute_result"
    }
   ],
   "source": [
    "a ^ b                # 不同时包含于a和b的元素"
   ]
  },
  {
   "cell_type": "code",
   "execution_count": 26,
   "id": "8a47212b",
   "metadata": {},
   "outputs": [
    {
     "data": {
      "text/plain": "{'d', 'r'}"
     },
     "execution_count": 26,
     "metadata": {},
     "output_type": "execute_result"
    }
   ],
   "source": [
    "a = {x for x in 'abracadabra' if x not in 'abc'}\n",
    "a"
   ]
  },
  {
   "cell_type": "markdown",
   "id": "e909e282",
   "metadata": {},
   "source": [
    "## 集合基本操作"
   ]
  },
  {
   "cell_type": "markdown",
   "id": "9dcec0a3",
   "metadata": {},
   "source": [
    "### （1）添加元素"
   ]
  },
  {
   "cell_type": "code",
   "execution_count": 27,
   "id": "ee13f979",
   "metadata": {},
   "outputs": [
    {
     "name": "stdout",
     "output_type": "stream",
     "text": [
      "{'Facebook', 'Google', 'ShowMeAI', 'Taobao'}\n"
     ]
    }
   ],
   "source": [
    "company = set((\"Google\", \"ShowMeAI\", \"Taobao\"))\n",
    "company.add(\"Facebook\")\n",
    "print(company)"
   ]
  },
  {
   "cell_type": "code",
   "execution_count": 28,
   "id": "3a304fa1",
   "metadata": {},
   "outputs": [
    {
     "name": "stdout",
     "output_type": "stream",
     "text": [
      "{'LinkedIn', 'Taobao', 'Facebook', 'Google', 'ShowMeAI'}\n"
     ]
    }
   ],
   "source": [
    "company = set((\"Google\", \"ShowMeAI\", \"Taobao\"))\n",
    "company.update({\"Facebook\", \"LinkedIn\"})\n",
    "print(company)"
   ]
  },
  {
   "cell_type": "code",
   "execution_count": 29,
   "id": "6cf55f05",
   "metadata": {},
   "outputs": [
    {
     "name": "stdout",
     "output_type": "stream",
     "text": [
      "{1, 4, 5, 6, 'Facebook', 'LinkedIn', 'Taobao', 'Google', 'ShowMeAI'}\n"
     ]
    }
   ],
   "source": [
    "company.update([1,4],[5,6]) \n",
    "print(company)"
   ]
  },
  {
   "cell_type": "markdown",
   "id": "6f7db1d9",
   "metadata": {},
   "source": [
    "### (2)移除元素"
   ]
  },
  {
   "cell_type": "code",
   "execution_count": 30,
   "id": "96e86372",
   "metadata": {},
   "outputs": [
    {
     "name": "stdout",
     "output_type": "stream",
     "text": [
      "{'Google', 'ShowMeAI'}\n"
     ]
    }
   ],
   "source": [
    "company = set((\"Google\", \"ShowMeAI\", \"Taobao\"))\n",
    "company.remove(\"Taobao\")\n",
    "print(company)"
   ]
  },
  {
   "cell_type": "code",
   "execution_count": 31,
   "id": "082e810a",
   "metadata": {},
   "outputs": [
    {
     "ename": "KeyError",
     "evalue": "'Facebook'",
     "output_type": "error",
     "traceback": [
      "\u001B[1;31m---------------------------------------------------------------------------\u001B[0m",
      "\u001B[1;31mKeyError\u001B[0m                                  Traceback (most recent call last)",
      "\u001B[1;32m~\\AppData\\Local\\Temp\\ipykernel_22188\\2132356116.py\u001B[0m in \u001B[0;36m<module>\u001B[1;34m\u001B[0m\n\u001B[1;32m----> 1\u001B[1;33m \u001B[0mcompany\u001B[0m\u001B[1;33m.\u001B[0m\u001B[0mremove\u001B[0m\u001B[1;33m(\u001B[0m\u001B[1;34m\"Facebook\"\u001B[0m\u001B[1;33m)\u001B[0m   \u001B[1;31m# 不存在会发生错误\u001B[0m\u001B[1;33m\u001B[0m\u001B[1;33m\u001B[0m\u001B[0m\n\u001B[0m",
      "\u001B[1;31mKeyError\u001B[0m: 'Facebook'"
     ]
    }
   ],
   "source": [
    "company.remove(\"Facebook\")   # 不存在会发生错误"
   ]
  },
  {
   "cell_type": "code",
   "execution_count": 33,
   "id": "f797fe23",
   "metadata": {},
   "outputs": [
    {
     "name": "stdout",
     "output_type": "stream",
     "text": [
      "{'Google', 'ShowMeAI', 'Taobao'}\n"
     ]
    }
   ],
   "source": [
    "company = set((\"Google\", \"ShowMeAI\", \"Taobao\"))\n",
    "# discard()删除集合中指定的元素\n",
    "company.discard(\"Facebook\") # 不存在不会发生错误\n",
    "print(company)"
   ]
  },
  {
   "cell_type": "code",
   "execution_count": 34,
   "id": "07d0531f",
   "metadata": {},
   "outputs": [
    {
     "name": "stdout",
     "output_type": "stream",
     "text": [
      "Facebook\n"
     ]
    }
   ],
   "source": [
    "company = set((\"Google\", \"ShowMeAI\", \"Taobao\", \"Facebook\"))\n",
    "x = company.pop()\n",
    "print(x)"
   ]
  },
  {
   "cell_type": "markdown",
   "id": "9d3d99e4",
   "metadata": {},
   "source": [
    "### （3）计算集合元素个数"
   ]
  },
  {
   "cell_type": "code",
   "execution_count": 35,
   "id": "2c575ca7",
   "metadata": {},
   "outputs": [
    {
     "name": "stdout",
     "output_type": "stream",
     "text": [
      "4\n"
     ]
    }
   ],
   "source": [
    "company = set((\"Google\", \"ShowMeAI\", \"Taobao\", \"Facebook\"))\n",
    "print(len(company))"
   ]
  },
  {
   "cell_type": "markdown",
   "id": "ee02cc99",
   "metadata": {},
   "source": [
    "### （4）清空集合"
   ]
  },
  {
   "cell_type": "code",
   "execution_count": 36,
   "id": "dad6cd00",
   "metadata": {},
   "outputs": [
    {
     "data": {
      "text/plain": "set()"
     },
     "execution_count": 36,
     "metadata": {},
     "output_type": "execute_result"
    }
   ],
   "source": [
    "company = set((\"Google\", \"ShowMeAI\", \"Taobao\", \"Facebook\"))\n",
    "company.clear()\n",
    "company"
   ]
  },
  {
   "cell_type": "markdown",
   "id": "d2e36212",
   "metadata": {},
   "source": [
    "### （5）判断元素是否在集合中存在"
   ]
  },
  {
   "cell_type": "code",
   "execution_count": 38,
   "id": "4a20afa4",
   "metadata": {},
   "outputs": [
    {
     "data": {
      "text/plain": "True"
     },
     "execution_count": 38,
     "metadata": {},
     "output_type": "execute_result"
    }
   ],
   "source": [
    "company = set((\"Google\", \"ShowMeAI\", \"Taobao\", \"Facebook\"))\n",
    "\"Facebook\" in company"
   ]
  },
  {
   "cell_type": "code",
   "execution_count": null,
   "id": "48cf8720",
   "metadata": {},
   "outputs": [],
   "source": []
  }
 ],
 "metadata": {
  "kernelspec": {
   "display_name": "Python 3",
   "language": "python",
   "name": "python3"
  },
  "language_info": {
   "codemirror_mode": {
    "name": "ipython",
    "version": 3
   },
   "file_extension": ".py",
   "mimetype": "text/x-python",
   "name": "python",
   "nbconvert_exporter": "python",
   "pygments_lexer": "ipython3",
   "version": "3.8.6"
  }
 },
 "nbformat": 4,
 "nbformat_minor": 5
}